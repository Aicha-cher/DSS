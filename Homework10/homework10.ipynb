{
 "cells": [
  {
   "cell_type": "code",
   "execution_count": 32,
   "metadata": {},
   "outputs": [
    {
     "name": "stdout",
     "output_type": "stream",
     "text": [
      "The line_profiler extension is already loaded. To reload it, use:\n",
      "  %reload_ext line_profiler\n"
     ]
    }
   ],
   "source": [
    "from skimage import data, color\n",
    "from skimage.transform import resize\n",
    "import numpy as np\n",
    "from matplotlib.pyplot import imshow\n",
    "import concurrent.futures\n",
    "from threading import Thread\n",
    "from PIL import Image\n",
    "import cv2\n",
    "import matplotlib.pyplot as plt\n",
    "import multiprocessing\n",
    "import os\n",
    "%load_ext line_profiler"
   ]
  },
  {
   "cell_type": "code",
   "execution_count": 2,
   "metadata": {},
   "outputs": [],
   "source": [
    "imgs = np.uint8(data.lfw_subset()*255)"
   ]
  },
  {
   "cell_type": "code",
   "execution_count": 3,
   "metadata": {},
   "outputs": [],
   "source": [
    "def res_skimage(imgs):\n",
    "    new_size = (imgs[1].shape[0]//2, imgs[1].shape[1]//2)\n",
    "    res_im = []\n",
    "    for im in imgs:\n",
    "        image_resized = resize(im, new_size, anti_aliasing=True)\n",
    "        res_im.append(image_resized)\n",
    "    return np.asarray(res_im)"
   ]
  },
  {
   "cell_type": "code",
   "execution_count": 4,
   "metadata": {},
   "outputs": [],
   "source": [
    "pil_imgs = [Image.fromarray(im) for im in imgs]\n",
    "def res_pil(imgs, method):\n",
    "    new_size = (imgs[1].size[0]//2, imgs[1].size[1]//2)\n",
    "    res_im = []\n",
    "    for im in pil_imgs:\n",
    "        image_resized = np.asarray(im.resize(new_size, method))\n",
    "        res_im.append(image_resized)\n",
    "    return np.asarray(res_im)"
   ]
  },
  {
   "cell_type": "code",
   "execution_count": 5,
   "metadata": {},
   "outputs": [],
   "source": [
    "pil_imgs = [Image.fromarray(im) for im in imgs]\n",
    "def res_cv2(imgs):\n",
    "    new_size = (imgs[1].shape[0]//2, imgs[1].shape[1]//2)\n",
    "    res_im = []\n",
    "    for im in imgs:\n",
    "        image_resized = cv2.resize(im, new_size, interpolation = cv2.INTER_LANCZOS4)\n",
    "        res_im.append(image_resized)\n",
    "    return np.asarray(res_im)\n",
    "    "
   ]
  },
  {
   "cell_type": "code",
   "execution_count": 6,
   "metadata": {},
   "outputs": [
    {
     "name": "stdout",
     "output_type": "stream",
     "text": [
      "Timer unit: 1e-09 s\n",
      "\n",
      "Total time: 0.025106 s\n",
      "File: /var/folders/rj/ls_3x1nx2q96t6562rd051_00000gn/T/ipykernel_32055/1939787722.py\n",
      "Function: res_skimage at line 1\n",
      "\n",
      "Line #      Hits         Time  Per Hit   % Time  Line Contents\n",
      "==============================================================\n",
      "     1                                           def res_skimage(imgs):\n",
      "     2         1       6000.0   6000.0      0.0      new_size = (imgs[1].shape[0]//2, imgs[1].shape[1]//2)\n",
      "     3         1          0.0      0.0      0.0      res_im = []\n",
      "     4       200      40000.0    200.0      0.2      for im in imgs:\n",
      "     5       200   24923000.0 124615.0     99.3          image_resized = resize(im, new_size, anti_aliasing=True)\n",
      "     6       200      70000.0    350.0      0.3          res_im.append(image_resized)\n",
      "     7         1      67000.0  67000.0      0.3      return np.asarray(res_im)"
     ]
    }
   ],
   "source": [
    "%lprun -f res_skimage res_skimage(imgs)"
   ]
  },
  {
   "cell_type": "code",
   "execution_count": 7,
   "metadata": {},
   "outputs": [
    {
     "name": "stdout",
     "output_type": "stream",
     "text": [
      "Timer unit: 1e-09 s\n",
      "\n",
      "Total time: 0.004555 s\n",
      "File: /var/folders/rj/ls_3x1nx2q96t6562rd051_00000gn/T/ipykernel_32055/2495973342.py\n",
      "Function: res_pil at line 2\n",
      "\n",
      "Line #      Hits         Time  Per Hit   % Time  Line Contents\n",
      "==============================================================\n",
      "     2                                           def res_pil(imgs, method):\n",
      "     3         1       3000.0   3000.0      0.1      new_size = (imgs[1].size[0]//2, imgs[1].size[1]//2)\n",
      "     4         1          0.0      0.0      0.0      res_im = []\n",
      "     5       200      38000.0    190.0      0.8      for im in pil_imgs:\n",
      "     6       200    4429000.0  22145.0     97.2          image_resized = np.asarray(im.resize(new_size, method))\n",
      "     7       200      44000.0    220.0      1.0          res_im.append(image_resized)\n",
      "     8         1      41000.0  41000.0      0.9      return np.asarray(res_im)"
     ]
    }
   ],
   "source": [
    "%lprun -f res_pil res_pil(pil_imgs, method=Image.LANCZOS)"
   ]
  },
  {
   "cell_type": "code",
   "execution_count": 8,
   "metadata": {},
   "outputs": [
    {
     "name": "stdout",
     "output_type": "stream",
     "text": [
      "Timer unit: 1e-09 s\n",
      "\n",
      "Total time: 0.00388 s\n",
      "File: /var/folders/rj/ls_3x1nx2q96t6562rd051_00000gn/T/ipykernel_32055/2495973342.py\n",
      "Function: res_pil at line 2\n",
      "\n",
      "Line #      Hits         Time  Per Hit   % Time  Line Contents\n",
      "==============================================================\n",
      "     2                                           def res_pil(imgs, method):\n",
      "     3         1       3000.0   3000.0      0.1      new_size = (imgs[1].size[0]//2, imgs[1].size[1]//2)\n",
      "     4         1          0.0      0.0      0.0      res_im = []\n",
      "     5       200      24000.0    120.0      0.6      for im in pil_imgs:\n",
      "     6       200    3765000.0  18825.0     97.0          image_resized = np.asarray(im.resize(new_size, method))\n",
      "     7       200      46000.0    230.0      1.2          res_im.append(image_resized)\n",
      "     8         1      42000.0  42000.0      1.1      return np.asarray(res_im)"
     ]
    }
   ],
   "source": [
    "%lprun -f res_pil res_pil(pil_imgs, method=Image.HAMMING)\n"
   ]
  },
  {
   "cell_type": "code",
   "execution_count": 9,
   "metadata": {},
   "outputs": [
    {
     "name": "stdout",
     "output_type": "stream",
     "text": [
      "Timer unit: 1e-09 s\n",
      "\n",
      "Total time: 0.002324 s\n",
      "File: /var/folders/rj/ls_3x1nx2q96t6562rd051_00000gn/T/ipykernel_32055/572085381.py\n",
      "Function: res_cv2 at line 2\n",
      "\n",
      "Line #      Hits         Time  Per Hit   % Time  Line Contents\n",
      "==============================================================\n",
      "     2                                           def res_cv2(imgs):\n",
      "     3         1       6000.0   6000.0      0.3      new_size = (imgs[1].shape[0]//2, imgs[1].shape[1]//2)\n",
      "     4         1          0.0      0.0      0.0      res_im = []\n",
      "     5       200      53000.0    265.0      2.3      for im in imgs:\n",
      "     6       200    2170000.0  10850.0     93.4          image_resized = cv2.resize(im, new_size, interpolation = cv2.INTER_LANCZOS4)\n",
      "     7       200      47000.0    235.0      2.0          res_im.append(image_resized)\n",
      "     8         1      48000.0  48000.0      2.1      return np.asarray(res_im)"
     ]
    }
   ],
   "source": [
    "%lprun -f res_cv2 res_cv2(imgs)"
   ]
  },
  {
   "cell_type": "code",
   "execution_count": 108,
   "metadata": {},
   "outputs": [
    {
     "data": {
      "text/plain": [
       "22430700.0"
      ]
     },
     "execution_count": 108,
     "metadata": {},
     "output_type": "execute_result"
    }
   ],
   "source": [
    "24923000.0 * 0.9"
   ]
  },
  {
   "cell_type": "code",
   "execution_count": 113,
   "metadata": {},
   "outputs": [
    {
     "data": {
      "text/plain": [
       "91.29318300365125"
      ]
     },
     "execution_count": 113,
     "metadata": {},
     "output_type": "execute_result"
    }
   ],
   "source": [
    "(24_923_000.0 - 2_170_000.0 )*100/ 24_923_000.0"
   ]
  },
  {
   "cell_type": "code",
   "execution_count": 114,
   "metadata": {},
   "outputs": [
    {
     "data": {
      "text/plain": [
       "91.29318300365125"
      ]
     },
     "execution_count": 114,
     "metadata": {},
     "output_type": "execute_result"
    }
   ],
   "source": [
    "(1- (2_170_000.0 / 24_923_000.0))*100"
   ]
  },
  {
   "cell_type": "code",
   "execution_count": 10,
   "metadata": {},
   "outputs": [
    {
     "data": {
      "text/plain": [
       "Text(0.5, 1.0, 'Resized Opencv')"
      ]
     },
     "execution_count": 10,
     "metadata": {},
     "output_type": "execute_result"
    },
    {
     "data": {
      "image/png": "[encoded data removed]",
      "text/plain": [
       "<Figure size 640x480 with 3 Axes>"
      ]
     },
     "metadata": {},
     "output_type": "display_data"
    }
   ],
   "source": [
    "fig, axs = plt.subplots(1, 3)\n",
    "axs[0].imshow(imgs[1], cmap='gray')\n",
    "axs[1].imshow(res_skimage(imgs)[1], cmap='gray')\n",
    "axs[2].imshow(res_cv2(imgs)[1], cmap='gray')\n",
    "axs[0].set_title('Original')\n",
    "axs[1].set_title('Resized skimage')\n",
    "axs[2].set_title('Resized Opencv')"
   ]
  },
  {
   "attachments": {},
   "cell_type": "markdown",
   "metadata": {},
   "source": [
    "## Task 2"
   ]
  },
  {
   "cell_type": "code",
   "execution_count": 64,
   "metadata": {},
   "outputs": [],
   "source": [
    "from functions import approximate_pi\n",
    "from fun2 import load_array"
   ]
  },
  {
   "cell_type": "code",
   "execution_count": 65,
   "metadata": {},
   "outputs": [],
   "source": [
    "# Data to pass to the above fucntion \n",
    "nums = [1822725,\n",
    "        22059421,\n",
    "        32374695,\n",
    "        88754320,\n",
    "        9716266]"
   ]
  },
  {
   "cell_type": "code",
   "execution_count": 31,
   "metadata": {},
   "outputs": [
    {
     "name": "stdout",
     "output_type": "stream",
     "text": [
      "10.1 s ± 426 ms per loop (mean ± std. dev. of 7 runs, 1 loop each)\n"
     ]
    }
   ],
   "source": [
    "%%timeit\n",
    "for n in nums:\n",
    "    approximate_pi(n)"
   ]
  },
  {
   "cell_type": "code",
   "execution_count": 30,
   "metadata": {},
   "outputs": [
    {
     "name": "stdout",
     "output_type": "stream",
     "text": [
      "24.5 s ± 62.2 ms per loop (mean ± std. dev. of 7 runs, 1 loop each)\n"
     ]
    }
   ],
   "source": [
    "# multithreading\n",
    "%%timeit\n",
    "threads = []\n",
    "for n in nums:\n",
    "    thread = Thread(target=approximate_pi, args=(n,))\n",
    "    thread.start()\n",
    "    threads.append(thread)\n",
    "\n",
    "for thread in threads:\n",
    "    thread.join()"
   ]
  },
  {
   "cell_type": "code",
   "execution_count": 29,
   "metadata": {},
   "outputs": [
    {
     "name": "stdout",
     "output_type": "stream",
     "text": [
      "15.4 s ± 178 ms per loop (mean ± std. dev. of 7 runs, 1 loop each)\n"
     ]
    }
   ],
   "source": [
    "# Multiprocessing\n",
    "%%timeit\n",
    "processes = []\n",
    "for n in nums:\n",
    "    process = multiprocessing.Process(target=approximate_pi, args = (n,))\n",
    "    process.start()\n",
    "    processes.append(process)\n",
    "for process in processes:\n",
    "    process.join()"
   ]
  },
  {
   "cell_type": "code",
   "execution_count": 115,
   "metadata": {},
   "outputs": [
    {
     "data": {
      "text/plain": [
       "37.142857142857146"
      ]
     },
     "execution_count": 115,
     "metadata": {},
     "output_type": "execute_result"
    }
   ],
   "source": [
    "# how faster is multiprocess\n",
    "(24.5 - 15.4)*100/24.5"
   ]
  },
  {
   "attachments": {},
   "cell_type": "markdown",
   "metadata": {},
   "source": [
    "## Task 3"
   ]
  },
  {
   "cell_type": "code",
   "execution_count": 69,
   "metadata": {},
   "outputs": [],
   "source": [
    "# get files name\n",
    "numpy_files_names = [os.path.join('./numpy_files', path) for path in os.listdir('numpy_files')]"
   ]
  },
  {
   "cell_type": "code",
   "execution_count": 105,
   "metadata": {},
   "outputs": [
    {
     "name": "stdout",
     "output_type": "stream",
     "text": [
      "1.7 s ± 162 ms per loop (mean ± std. dev. of 7 runs, 1 loop each)\n"
     ]
    }
   ],
   "source": [
    "%%timeit\n",
    "results = []\n",
    "# create threads and asign a function for each thread\n",
    "for file_name in numpy_files_names:\n",
    "    results.append(load_array(file_name,))\n",
    "results = np.asanyarray(results)"
   ]
  },
  {
   "cell_type": "code",
   "execution_count": 104,
   "metadata": {},
   "outputs": [
    {
     "name": "stdout",
     "output_type": "stream",
     "text": [
      "292 ms ± 18.9 ms per loop (mean ± std. dev. of 7 runs, 1 loop each)\n"
     ]
    }
   ],
   "source": [
    "# multithreading\n",
    "%%timeit\n",
    "threads = []\n",
    "for file_name in numpy_files_names:\n",
    "    thread = Thread(target=load_array, args=(file_name,))\n",
    "    thread.start()\n",
    "    threads.append(thread)\n",
    "\n",
    "for thread in threads:\n",
    "    thread.join()"
   ]
  },
  {
   "attachments": {},
   "cell_type": "markdown",
   "metadata": {},
   "source": [
    "#### Multiprocessing"
   ]
  },
  {
   "cell_type": "code",
   "execution_count": 119,
   "metadata": {},
   "outputs": [
    {
     "name": "stdout",
     "output_type": "stream",
     "text": [
      "2.13 s ± 82 ms per loop (mean ± std. dev. of 7 runs, 1 loop each)\n"
     ]
    }
   ],
   "source": [
    "\n",
    "%%timeit\n",
    "processes = []\n",
    "for file_name in numpy_files_names:\n",
    "    process = multiprocessing.Process(target=load_array, args = (file_name,))\n",
    "    process.start()\n",
    "    processes.append(process)\n",
    "# Wait for all processes to complete\n",
    "for process in processes:\n",
    "    process.join()"
   ]
  },
  {
   "cell_type": "code",
   "execution_count": 121,
   "metadata": {},
   "outputs": [
    {
     "data": {
      "text/plain": [
       "2200.0"
      ]
     },
     "execution_count": 121,
     "metadata": {},
     "output_type": "execute_result"
    }
   ],
   "source": [
    "2.2*1000"
   ]
  },
  {
   "cell_type": "code",
   "execution_count": 116,
   "metadata": {},
   "outputs": [
    {
     "data": {
      "text/plain": [
       "86.72727272727273"
      ]
     },
     "execution_count": 116,
     "metadata": {},
     "output_type": "execute_result"
    }
   ],
   "source": [
    "# how faster is multithreading\n",
    "(2.2*1000 - 292)*100/(2.2*1000)"
   ]
  },
  {
   "cell_type": "code",
   "execution_count": null,
   "metadata": {},
   "outputs": [],
   "source": []
  }
 ],
 "metadata": {
  "kernelspec": {
   "display_name": "homwrk10-hBg7u-7I-py3.10",
   "language": "python",
   "name": "python3"
  },
  "language_info": {
   "codemirror_mode": {
    "name": "ipython",
    "version": 3
   },
   "file_extension": ".py",
   "mimetype": "text/x-python",
   "name": "python",
   "nbconvert_exporter": "python",
   "pygments_lexer": "ipython3",
   "version": "3.10.0"
  },
  "orig_nbformat": 4,
  "vscode": {
   "interpreter": {
    "hash": "52ee2883fa7cd5f3fb7a5b6887cba275e889718ad67e1ae609b416d43c4eb688"
   }
  }
 },
 "nbformat": 4,
 "nbformat_minor": 2
}
